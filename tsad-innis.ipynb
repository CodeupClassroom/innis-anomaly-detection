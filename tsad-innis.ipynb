{
 "cells": [
  {
   "cell_type": "code",
   "execution_count": null,
   "metadata": {},
   "outputs": [],
   "source": [
    "import matplotlib.pyplot as plt\n",
    "import numpy as np\n",
    "import pandas as pd"
   ]
  },
  {
   "cell_type": "markdown",
   "metadata": {},
   "source": [
    "## EWMA"
   ]
  },
  {
   "cell_type": "markdown",
   "metadata": {},
   "source": [
    "### Exponential Moving Average\n",
    "Simple Moving Average (SMA) time series are much less noisy than the time series of the original data points. The challenge with SMA, however, is that the values of SMA lag the original values. This means that changes in the trend are only seen with a delay (lag) of L time units. For datasets that contain rapid trend shifts, a SMA may simply be too slow to be useful. "
   ]
  },
  {
   "cell_type": "markdown",
   "metadata": {},
   "source": [
    "**Exponential Moving Average (EMA)** helps reduce the lag induced by the use of the SMA. It does this by putting more weight on more recent observations, while the SMA weights all observations equally.\n",
    "\n",
    "The EMA function looks like this:\n",
    "\n",
    "### EMA<sub>*t*</sub> = α ∗ (*t*<sub>0</sub> − EMA<sub>*t−1*</sub>) + EMA<sub>*t−1*</sub>\n",
    "\n",
    "Where:\n",
    "\n",
    "- t<sub>0</sub> = Latest value\n",
    "- t<sub>−1</sub> = Previous value\n",
    "- EMA<sub>*t−1*</sub> = Exponential moving average of previous day.\n",
    "- The multiplier: α = 2/(M+1)\n",
    "\n",
    "and \n",
    "\n",
    "- M = Number of time periods, span of the window\n",
    "\n",
    "However, we will use the pandas `ewm()` (Exponential Weighted functions) to compute our EMA. So we just need to define the following:\n",
    "\n",
    "M = `span` argument = number of time periods. We will try 7 days, 14 days, and 30 days."
   ]
  },
  {
   "cell_type": "code",
   "execution_count": null,
   "metadata": {},
   "outputs": [],
   "source": []
  },
  {
   "cell_type": "markdown",
   "metadata": {},
   "source": [
    "## Bollinger Bands"
   ]
  },
  {
   "cell_type": "code",
   "execution_count": null,
   "metadata": {},
   "outputs": [],
   "source": [
    "# Data + Prep from TS: explore lesson\n",
    "plt.rc('figure', figsize=(13, 6))\n",
    "plt.rc('axes.spines', top=False, right=False)\n",
    "plt.rc('font', size=13)\n",
    "\n",
    "# T(°F) = T(K) × 9/5 - 459.67\n",
    "def to_fahrenheit(k):\n",
    "    return k * 9/5 - 459.67\n",
    "\n",
    "url = \"https://gist.githubusercontent.com/ryanorsinger/0ec766c66f4089bdcbc1d4fb294a3394/raw/197c1f0d7b55a45f29437811bc73d9c4ef8af647/sa_temps.csv\"\n",
    "s = pd.read_csv(url, index_col='datetime', parse_dates=True).temp\n",
    "s = s.dropna()\n",
    "s = to_fahrenheit(s)\n",
    "s = s.resample('D').mean()"
   ]
  },
  {
   "cell_type": "markdown",
   "metadata": {},
   "source": [
    "## Bollinger Bands\n",
    "\n",
    "- A volatility indicator commonly used in fiscal and trading analysis.\n",
    "- Made up of 3 lines, the Upper Band (UB), the Lower Band (LB) and the Midband.\n",
    "- Based on the exponential moving average\n",
    "\n",
    "### Midband\n",
    "\n",
    "The Exponential Moving Average\n",
    "\n",
    "`midband = train.ewm(span=30).mean()`\n",
    "\n",
    "### Upper & Lower Band\n",
    "\n",
    "UB/LB = Midband +/- stdev * K\n",
    "\n",
    "`stdev = train.ewm(span=30).std()`\n",
    "\n",
    "K = the number of standard deviations to go up and down from the EMA\n",
    "\n",
    "### %b, Percent Bandwidth\n",
    "\n",
    "Shows where the last value sits in relation to the bands.\n",
    "\n",
    "%b = last−LB / UB-LB\n",
    "\n",
    "- If %b > 1, data point lies above the upper band\n",
    "- If %b < 0, data point lies below the lower band\n",
    "- If %b == .5, data point lies on the midband."
   ]
  },
  {
   "cell_type": "code",
   "execution_count": null,
   "metadata": {},
   "outputs": [],
   "source": [
    "K = \n",
    "M = \n",
    "# std = s.rolling(M).std()\n",
    "std = \n",
    "bands = \n",
    "# bands['mid'] = s.rolling(M).mean()\n",
    "bands['mid'] = \n",
    "bands['upper'] = \n",
    "bands['lower'] = \n",
    "bands['actual'] = \n",
    "\n",
    "t = bands.loc['2013']\n",
    "t[['upper', 'lower']].plot(color='black', alpha=.6, ls=':', figsize=(16, 6))\n",
    "t.mid.plot(color='black', alpha=.6, ls='--')\n",
    "t.actual.plot()\n",
    "plt.legend('')\n",
    "plt.xlabel('')"
   ]
  },
  {
   "cell_type": "code",
   "execution_count": null,
   "metadata": {},
   "outputs": [],
   "source": [
    "bands['%b'] = "
   ]
  },
  {
   "cell_type": "code",
   "execution_count": null,
   "metadata": {},
   "outputs": [],
   "source": [
    "upper_outliers = "
   ]
  },
  {
   "cell_type": "code",
   "execution_count": null,
   "metadata": {},
   "outputs": [],
   "source": [
    "lower_outliers = "
   ]
  },
  {
   "cell_type": "code",
   "execution_count": null,
   "metadata": {},
   "outputs": [],
   "source": [
    "plt.plot(bands.index, bands.actual, label='Temperature (deg F)')\n",
    "plt.vlines(upper_outliers.index, *plt.ylim(), color='black', ls='--', label='Upper Outlier')\n",
    "plt.title('San Antonio Temperature Over Time')\n",
    "plt.legend()"
   ]
  },
  {
   "cell_type": "code",
   "execution_count": null,
   "metadata": {},
   "outputs": [],
   "source": [
    "plt.plot(bands.index, bands.actual, label='Temperature (deg F)')\n",
    "plt.vlines(lower_outliers.index, *plt.ylim(), color='black', ls='--', label='Lower Outlier')\n",
    "plt.title('San Antonio Temperature Over Time')\n",
    "plt.legend()"
   ]
  },
  {
   "cell_type": "code",
   "execution_count": null,
   "metadata": {},
   "outputs": [],
   "source": [
    "plt.plot(bands.index, bands.actual, label='Temperature (deg F)')\n",
    "plt.vlines(upper_outliers.index, *plt.ylim(), color='black', ls='--', label='Upper Outlier')\n",
    "plt.vlines(lower_outliers.index, *plt.ylim(), color='black', ls=':', label='Lower Outlier')\n",
    "plt.title('San Antonio Temperature Over Time')\n",
    "plt.legend()\n",
    "plt.xlim(pd.to_datetime('2013'), pd.to_datetime('2014'))"
   ]
  },
  {
   "cell_type": "markdown",
   "metadata": {},
   "source": [
    "How do we deal with \"dense\" data? Use less data points:\n",
    "\n",
    "- consider a broader resampling period\n",
    "- use a subset of the data (\"zoom in\")\n",
    "- change the threshold for outlier detection -- in this case, use a higher K value\n",
    "- experiment and iterate\n",
    "\n",
    "\"If you torture the data enough it will confess to anything\"\n",
    "\n",
    "- Is this analysis reproducible with new data?\n",
    "- If my worst enemy read this work, what would they criticize?\n",
    "- State your hypothesis, biases, and assumptions ahead of time"
   ]
  },
  {
   "cell_type": "markdown",
   "metadata": {},
   "source": [
    "## So how do we apply this to the project we are working on?\n",
    "\n",
    "- data that is not uniformly frequent\n",
    "- data that has lots of discrete features\n",
    "\n",
    "A: We create a continuous variable from the discrete ones by resampling + .size()."
   ]
  },
  {
   "cell_type": "code",
   "execution_count": null,
   "metadata": {},
   "outputs": [],
   "source": [
    "import env\n",
    "\n",
    "url = f'mysql+pymysql://{env.user}:{env.password}@{env.host}/curriculum_logs'\n",
    "query = 'SELECT * FROM logs'\n",
    "\n",
    "df = pd.read_sql(query, url)"
   ]
  },
  {
   "cell_type": "code",
   "execution_count": null,
   "metadata": {},
   "outputs": [],
   "source": [
    "df.head()"
   ]
  },
  {
   "cell_type": "markdown",
   "metadata": {},
   "source": [
    "I'm choosing to focus on cohort_id"
   ]
  },
  {
   "cell_type": "code",
   "execution_count": null,
   "metadata": {},
   "outputs": [],
   "source": [
    "# subset\n",
    "df = df[df.cohort_id.isin([33, 34, 51])]"
   ]
  },
  {
   "cell_type": "code",
   "execution_count": null,
   "metadata": {},
   "outputs": [],
   "source": [
    "df = df.set_index(pd.to_datetime(df.date + ' ' + df.time))"
   ]
  },
  {
   "cell_type": "markdown",
   "metadata": {},
   "source": [
    "This is the **secret sauce**\n",
    "\n",
    "1. groupby + resample + `.size()` gives us counts over time for each unique value of the discrete variable\n",
    "1. `.unstack(0)` converts the index of the discrete variable to columns\n",
    "\n",
    "We end up with a dataframe where the rows are our chosen time period, columns are unique values of the discrete var, and the values are the number of times that combination of discrete var + time period shows up (i.e. # of requests per cohort per week)."
   ]
  },
  {
   "cell_type": "code",
   "execution_count": null,
   "metadata": {},
   "outputs": [],
   "source": [
    "cohort_requests = \n"
   ]
  },
  {
   "cell_type": "code",
   "execution_count": null,
   "metadata": {},
   "outputs": [],
   "source": []
  },
  {
   "cell_type": "code",
   "execution_count": null,
   "metadata": {},
   "outputs": [],
   "source": [
    "K = \n",
    "M = \n",
    "s = \n",
    "bands = \n",
    "std = \n",
    "# std = s.rolling(M).std()\n",
    "bands['actual'] = \n",
    "\n",
    "# bands['mid'] = bands.actual.rolling(M).mean()\n",
    "bands['mid'] = \n",
    "bands['upper'] = \n",
    "bands['lower'] = \n",
    "bands.head()"
   ]
  },
  {
   "cell_type": "code",
   "execution_count": null,
   "metadata": {},
   "outputs": [],
   "source": [
    "bands[['upper', 'lower']].plot(color='black', alpha=.6, ls=':', figsize=(16, 6))\n",
    "bands.mid.plot(color='black', alpha=.6, ls='--')\n",
    "bands.actual.plot()\n",
    "plt.legend('')\n",
    "plt.xlabel('')\n",
    "plt.title('weekly # of requests for cohort_id=33')\n",
    "plt.ylabel('# of requests')"
   ]
  },
  {
   "cell_type": "markdown",
   "metadata": {},
   "source": [
    "Next steps:\n",
    "\n",
    "1. Calculate %b to call out outliers and visualize\n",
    "1. tweak hyperparams -- try a ewma, diff values for k\n",
    "1. apply this to multiple cohorts or other discrete variables (a function might help!)"
   ]
  }
 ],
 "metadata": {
  "kernelspec": {
   "display_name": "Python 3",
   "language": "python",
   "name": "python3"
  },
  "language_info": {
   "codemirror_mode": {
    "name": "ipython",
    "version": 3
   },
   "file_extension": ".py",
   "mimetype": "text/x-python",
   "name": "python",
   "nbconvert_exporter": "python",
   "pygments_lexer": "ipython3",
   "version": "3.9.4"
  }
 },
 "nbformat": 4,
 "nbformat_minor": 4
}
